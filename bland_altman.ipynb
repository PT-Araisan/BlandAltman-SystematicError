{
  "cells": [
    {
      "cell_type": "code",
      "execution_count": null,
      "metadata": {
        "id": "1Vimd-1Wkr3s"
      },
      "outputs": [],
      "source": [
        "!pip install pyCompare\n",
        "\n",
        "import pandas as pd\n",
        "import numpy as np\n",
        "import pyCompare\n",
        "from scipy.stats import pearsonr, ttest_rel, sem\n",
        "\n",
        "def analyze_bland_altman(df):\n",
        "    x_col, y_col = df.columns[:2]\n",
        "    pyCompare.blandAltman(df[y_col], df[x_col])\n",
        "\n",
        "    diffs = df[y_col] - df[x_col]\n",
        "    means = (df[x_col] + df[y_col]) / 2\n",
        "    print(diffs)\n",
        "    print(means)\n",
        "\n",
        "    correlation, pvalue = pearsonr(diffs, means)\n",
        "    print(f\"ピアソンの積率相関係数: {correlation:.3f}\")\n",
        "    print(f\"p値: {pvalue:.4e}\")  \n",
        "    if pvalue < 0.05:\n",
        "        print(\"比例誤差があります。\")\n",
        "    else:\n",
        "        print(\"比例誤差はありません。\")\n",
        "    print(\"--------------------------\")\n",
        "\n",
        "    mean_diff = np.mean(diffs)\n",
        "    std_err = sem(diffs)\n",
        "    confidence_interval = 1.96 * std_err  \n",
        "\n",
        "    ci_lower = mean_diff - confidence_interval\n",
        "    ci_upper = mean_diff + confidence_interval\n",
        "    print(f\"差の95%信頼区間: [{ci_lower:.3f}, {ci_upper:.3f}]\")\n",
        "\n",
        "    if ci_lower > 0 or ci_upper < 0:\n",
        "        print(\"固定誤差があります。\")\n",
        "    else:\n",
        "        print(\"固定誤差はありません。\")\n",
        "\n",
        "def main_bland_altman(csv_file):\n",
        "    df = pd.read_csv(csv_file)\n",
        "    analyze_bland_altman(df)\n",
        "\n",
        "# 以下の「hoge.csv」の場所にて、CSVファイルの名前を書き換えてください。\n",
        "main_bland_altman('hoge.csv') \n"
      ]
    }
  ],
  "metadata": {
    "colab": {
      "provenance": []
    },
    "kernelspec": {
      "display_name": "Python 3",
      "name": "python3"
    },
    "language_info": {
      "name": "python"
    }
  },
  "nbformat": 4,
  "nbformat_minor": 0
}
