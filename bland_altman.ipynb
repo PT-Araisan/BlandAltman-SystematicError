{
  "cells": [
    {
      "cell_type": "code",
      "execution_count": null,
      "metadata": {
        "id": "1Vimd-1Wkr3s"
      },
      "outputs": [],
      "source": [
        "!pip install pyCompare\n",
        "\n",
        "import pandas as pd\n",
        "import pyCompare\n",
        "from scipy.stats import pearsonr\n",
        "\n",
        "def analyze_bland_altman(df):\n",
        "    x_col, y_col = df.columns[:2]\n",
        "    pyCompare.blandAltman(df[x_col], df[y_col])\n",
        "\n",
        "    diffs = df[y_col] - df[x_col]\n",
        "    means = (df[x_col] + df[y_col]) / 2\n",
        "\n",
        "    correlation, pvalue = pearsonr(means, diffs)\n",
        "    print(f\"ピアソンの積率相関係数: {correlation:.3f}\")\n",
        "    print(f\"p値: {pvalue:.3f}\")  \n",
        "    if pvalue < 0.05:\n",
        "        print(\"比例誤差があります。\")\n",
        "    else:\n",
        "        print(\"比例誤差はありません。\")\n",
        "\n",
        "    diff_mean = diffs.mean()\n",
        "    diff_std = diffs.std()\n",
        "    ci_low = diff_mean - 1.96 * (diff_std / (len(diffs) ** 0.5))\n",
        "    ci_high = diff_mean + 1.96 * (diff_std / (len(diffs) ** 0.5))\n",
        "\n",
        "    print(f\"差の95%信頼区間: [{ci_low:.3f}, {ci_high:.3f}]\")\n",
        "    if ci_low > 0 or ci_high < 0:\n",
        "        print(\"固定誤差があります。\")\n",
        "    else:\n",
        "        print(\"固定誤差はありません。\")\n",
        "\n",
        "def main_bland_altman(csv_file):\n",
        "    df = pd.read_csv(csv_file)\n",
        "    analyze_bland_altman(df)\n",
        "\n",
        "main_bland_altman('deta2.csv')  "
      ]
    }
  ],
  "metadata": {
    "colab": {
      "provenance": []
    },
    "kernelspec": {
      "display_name": "Python 3",
      "name": "python3"
    },
    "language_info": {
      "name": "python"
    }
  },
  "nbformat": 4,
  "nbformat_minor": 0
}
